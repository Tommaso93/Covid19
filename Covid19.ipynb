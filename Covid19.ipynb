{
 "cells": [
  {
   "cell_type": "markdown",
   "metadata": {},
   "source": [
    "# Grafici Coronavirus"
   ]
  },
  {
   "cell_type": "markdown",
   "metadata": {},
   "source": [
    "Come utilizzare il Notebook:\n",
    "\n",
    "- **Importare sempre i moduli (Blocco sotto)**\n",
    "- Se non si hanno i dati dei giorni passati -> eseguire **Step 0 e successivi**\n",
    "- Se si hanno i dati e si vogliono quelli giornalieri -> eseguire **Step 1 e successivi**\n",
    "- Se si vuole solo analizzare i grafici -> eseguire **Step 2 e successivi**"
   ]
  },
  {
   "cell_type": "markdown",
   "metadata": {},
   "source": [
    "Importiamo i moduli"
   ]
  },
  {
   "cell_type": "code",
   "execution_count": null,
   "metadata": {},
   "outputs": [],
   "source": [
    "import datetime\n",
    "import pandas as pd\n",
    "import os\n",
    "import plotly.graph_objects as go\n",
    "import wget"
   ]
  },
  {
   "cell_type": "markdown",
   "metadata": {},
   "source": [
    "----------------------------------------------------------------------\n",
    "----------------------------------------------------------------------"
   ]
  },
  {
   "cell_type": "markdown",
   "metadata": {},
   "source": [
    "### Step 0 - Caricare dati antecedenti (SOLO PRIMA VOLTA)"
   ]
  },
  {
   "cell_type": "markdown",
   "metadata": {},
   "source": [
    "La prima volta è necessario avere tutti i dati dei giorni precedenti (**non necessario dopo il primo caricamento**):"
   ]
  },
  {
   "cell_type": "markdown",
   "metadata": {},
   "source": [
    "- Scaricare i dati dal sito della Protezione Civile: https://github.com/pcm-dpc/COVID-19)"
   ]
  },
  {
   "cell_type": "code",
   "execution_count": null,
   "metadata": {},
   "outputs": [],
   "source": [
    "url = \"https://www.github.com/pcm-dpc/COVID-19/trunk/dati-regioni\"\n",
    "os.system(\"svn checkout \" + url)\n",
    "os.remove(\"./dati-regioni/dpc-covid19-ita-regioni.csv\")\n",
    "os.remove(\"./dati-regioni/dpc-covid19-ita-regioni-latest.csv\")\n",
    "\n",
    "url = \"https://www.github.com/pcm-dpc/COVID-19/trunk/dati-andamento-nazionale\"\n",
    "os.system(\"svn checkout \" + url)\n",
    "os.remove(\"./dati-andamento-nazionale/dpc-covid19-ita-andamento-nazionale.csv\")\n",
    "os.remove(\"./dati-andamento-nazionale/dpc-covid19-ita-andamento-nazionale-latest.csv\")"
   ]
  },
  {
   "cell_type": "code",
   "execution_count": null,
   "metadata": {},
   "outputs": [],
   "source": [
    "regions = [\"Italia\",\"Abruzzo\",\"Basilicata\",\"P.A. Bolzano\",\"Calabria\",\"Campania\",\"Emilia-Romagna\",\"Friuli Venezia Giulia\",\"Lazio\",\"Liguria\",\"Lombardia\",\"Marche\",\"Molise\",\"Piemonte\",\"Puglia\",\"Sardegna\",\"Sicilia\",\"Toscana\",\"P.A. Trento\",\"Umbria\",\"Valle d'Aosta\",\"Veneto\"]"
   ]
  },
  {
   "cell_type": "code",
   "execution_count": null,
   "metadata": {},
   "outputs": [],
   "source": [
    "dataframe_collection = {} \n",
    "for region in regions:\n",
    "    print(region)\n",
    "    dataframe_collection[region] = pd.DataFrame()\n",
    "    if region == \"Italia\":\n",
    "        for filename in os.listdir(\"./dati-andamento-nazionale\"):\n",
    "            if filename.endswith(\".csv\"):\n",
    "                f = open(\"./dati-andamento-nazionale/\" + filename)\n",
    "                temp_df = pd.read_csv(f)\n",
    "                temp_df= temp_df.loc[temp_df['stato'] == \"ITA\"]\n",
    "                dataframe_collection[region] = dataframe_collection[region].append(temp_df,\"\\n\")\n",
    "                del temp_df\n",
    "    else:\n",
    "        for filename in os.listdir(\"./dati-regioni\"):\n",
    "            if filename.endswith(\".csv\"):\n",
    "                f = open(\"./dati-regioni/\" + filename)\n",
    "                temp_df = pd.read_csv(f)\n",
    "                temp_df= temp_df.loc[temp_df['denominazione_regione'] == region]\n",
    "                dataframe_collection[region] = dataframe_collection[region].append(temp_df,\"\\n\")\n",
    "                del temp_df\n",
    "    dataframe_collection[region] = dataframe_collection[region].sort_values(by=['data'], ignore_index=True)\n",
    "    \n",
    "    #Create new columns, to create other plots\n",
    "    dataframe_collection[region][\"nuovi_deceduti\"] = dataframe_collection[region][\"deceduti\"].diff().fillna(0).astype(int)\n",
    "    dataframe_collection[region][\"nuovi_guariti\"] = dataframe_collection[region][\"dimessi_guariti\"].diff().fillna(0).astype(int)"
   ]
  },
  {
   "cell_type": "code",
   "execution_count": null,
   "metadata": {},
   "outputs": [],
   "source": [
    "for key in dataframe_collection.keys():    \n",
    "    if not os.path.exists(\"./dati-regioni/cumulativi/\"):\n",
    "        os.makedirs(\"./dati-regioni/cumulativi/\")\n",
    "    if not os.path.exists(\"./dati-andamento-nazionale/cumulativi/\"):\n",
    "        os.makedirs(\"./dati-andamento-nazionale/cumulativi/\")\n",
    "\n",
    "    if key == \"Italia\":\n",
    "        dataframe_collection[key].to_csv(\"./dati-andamento-nazionale/cumulativi/\"+ key + \".csv\", index=False)\n",
    "    else:\n",
    "        dataframe_collection[key].to_csv(\"./dati-regioni/cumulativi/\"+ key + \".csv\", index=False)"
   ]
  },
  {
   "cell_type": "markdown",
   "metadata": {},
   "source": [
    "------------------------------------------\n",
    "------------------------------------------"
   ]
  },
  {
   "cell_type": "markdown",
   "metadata": {},
   "source": [
    "### Step 1 - Scaricare i dati giornalieri dalla Protezione Civile (ESEGUIRE SOLO DOPO LA PUBBLICAZIONE GIORNALIERA DEI DATI - dalle h19)"
   ]
  },
  {
   "cell_type": "markdown",
   "metadata": {},
   "source": [
    "Scriviamo il csv giornaliero su disco"
   ]
  },
  {
   "cell_type": "code",
   "execution_count": null,
   "metadata": {},
   "outputs": [],
   "source": [
    "now = datetime.datetime.now()\n",
    "today_is=now.strftime(\"%Y%m%d\")\n",
    "regions = [\"Italia\",\"Abruzzo\",\"Basilicata\",\"P.A. Bolzano\",\"Calabria\",\"Campania\",\"Emilia-Romagna\",\"Friuli Venezia Giulia\",\"Lazio\",\"Liguria\",\"Lombardia\",\"Marche\",\"Molise\",\"Piemonte\",\"Puglia\",\"Sardegna\",\"Sicilia\",\"Toscana\",\"P.A. Trento\",\"Umbria\",\"Valle d'Aosta\",\"Veneto\"]"
   ]
  },
  {
   "cell_type": "code",
   "execution_count": null,
   "metadata": {},
   "outputs": [],
   "source": [
    "input_filename_regioni = \"https://raw.githubusercontent.com/pcm-dpc/COVID-19/master/dati-regioni/dpc-covid19-ita-regioni-\" + today_is + \".csv\"\n",
    "output_filename_regioni = \"./dati-regioni/dpc-covid19-ita-regioni-\" + today_is + \".csv\"\n",
    "virus_today_regioni = pd.read_csv(input_filename_regioni)\n",
    "virus_today_regioni.to_csv(output_filename_regioni,index=False)\n",
    "\n",
    "input_filename_italia = \"https://raw.githubusercontent.com/pcm-dpc/COVID-19/master/dati-andamento-nazionale/dpc-covid19-ita-andamento-nazionale-\" + today_is + \".csv\"\n",
    "output_filename_italia = \"./dati-regioni/dpc-covid19-ita-andamento-nazionale-\" + today_is + \".csv\"\n",
    "virus_today_italia = pd.read_csv(input_filename_italia)\n",
    "virus_today_italia.to_csv(output_filename_italia,index=False)"
   ]
  },
  {
   "cell_type": "markdown",
   "metadata": {},
   "source": [
    "Uniamo il dato giornaliero al file cumulativo, regione per regione:"
   ]
  },
  {
   "cell_type": "code",
   "execution_count": null,
   "metadata": {},
   "outputs": [],
   "source": [
    "dataframe_collection = {}\n",
    "for region in regions:\n",
    "    if region == \"Italia\":\n",
    "        today_collection = pd.DataFrame()\n",
    "        dataframe_collection[region] = pd.read_csv(\"./dati-andamento-nazionale/cumulativi/\" + region + \".csv\")\n",
    "        today_collection = virus_today.loc[virus_today['stato'] == \"ITA\"]       \n",
    "    else:\n",
    "        today_collection = pd.DataFrame()\n",
    "        dataframe_collection[region] = pd.read_csv(\"./dati-regioni/cumulativi/\" + region + \".csv\")\n",
    "        today_collection = virus_today.loc[virus_today['denominazione_regione'] == region]\n",
    "    \n",
    "    dataframe_collection[region]= dataframe_collection[region].append(today_collection,\"\\n\")   \n",
    "    #Create new columns, to create other plots\n",
    "    dataframe_collection[region][\"nuovi_deceduti\"] = dataframe_collection[region][\"deceduti\"].diff().fillna(0).astype(int)\n",
    "    dataframe_collection[region][\"nuovi_guariti\"] = dataframe_collection[region][\"dimessi_guariti\"].diff().fillna(0).astype(int)"
   ]
  },
  {
   "cell_type": "code",
   "execution_count": null,
   "metadata": {},
   "outputs": [],
   "source": [
    "dataframe_collection[\"Marche\"]"
   ]
  },
  {
   "cell_type": "code",
   "execution_count": null,
   "metadata": {},
   "outputs": [],
   "source": [
    "for key in dataframe_collection.keys():\n",
    "    dataframe_collection[key].to_csv(\"./dati-regioni/cumulativi/\"+ key + \".csv\", index=False)"
   ]
  },
  {
   "cell_type": "markdown",
   "metadata": {},
   "source": [
    "### Step 2 - Fare i grafici (ESEGUIBILE SEMPRE)"
   ]
  },
  {
   "cell_type": "code",
   "execution_count": null,
   "metadata": {},
   "outputs": [],
   "source": [
    "now = datetime.datetime.now()\n",
    "show_time=now.strftime(\"%d/%m/%Y\")\n",
    "regions = [\"Italia\",\"Abruzzo\",\"Basilicata\",\"P.A. Bolzano\",\"Calabria\",\"Campania\",\"Emilia-Romagna\",\"Friuli Venezia Giulia\",\"Lazio\",\"Liguria\",\"Lombardia\",\"Marche\",\"Molise\",\"Piemonte\",\"Puglia\",\"Sardegna\",\"Sicilia\",\"Toscana\",\"P.A. Trento\",\"Umbria\",\"Valle d'Aosta\",\"Veneto\"]"
   ]
  },
  {
   "cell_type": "code",
   "execution_count": null,
   "metadata": {},
   "outputs": [],
   "source": [
    "dataframe_collection = {}\n",
    "for region in regions:\n",
    "    if region == \"Italia\":\n",
    "        dataframe_collection[region] = pd.read_csv(\"./dati-andamento-nazionale/cumulativi/\" + region + \".csv\")\n",
    "    else:\n",
    "        dataframe_collection[region] = pd.read_csv(\"./dati-regioni/cumulativi/\" + region + \".csv\")\n",
    "    dataframe_collection[region][\"data\"] = pd.to_datetime(dataframe_collection[region].data)\n",
    "    dataframe_collection[region][\"data\"] = dataframe_collection[region][\"data\"].dt.strftime('%d/%m')"
   ]
  },
  {
   "cell_type": "markdown",
   "metadata": {},
   "source": [
    "Creiamo qualche grafico:"
   ]
  },
  {
   "cell_type": "code",
   "execution_count": null,
   "metadata": {
    "code_folding": [
     0
    ]
   },
   "outputs": [],
   "source": [
    "def incrementi_giornalieri(region):\n",
    "    #Plots\n",
    "    fig = go.Figure()\n",
    "\n",
    "    fig.add_trace(go.Scatter(\n",
    "        x=dataframe_collection[region][\"data\"],\n",
    "        y=dataframe_collection[region][\"nuovi_positivi\"],\n",
    "        mode='lines+markers',\n",
    "        name='Nuovi Positivi',\n",
    "        marker_color='orange',\n",
    "        marker_size=9\n",
    "    ))\n",
    "    \n",
    "    fig.add_trace(go.Scatter(\n",
    "        x=dataframe_collection[region][\"data\"],\n",
    "        y=dataframe_collection[region][\"nuovi_deceduti\"],\n",
    "        mode='lines+markers',\n",
    "        name='Nuovi Deceduti',\n",
    "        marker_color='black',\n",
    "        marker_size=9\n",
    "    ))\n",
    "\n",
    "    fig.add_trace(go.Scatter(\n",
    "        x=dataframe_collection[region][\"data\"],\n",
    "        y=dataframe_collection[region][\"nuovi_guariti\"],\n",
    "        mode='lines+markers',\n",
    "        name='Nuovi Guariti',\n",
    "        marker_color='green',\n",
    "        marker_size=9\n",
    "    ))\n",
    "\n",
    "    fig.update_layout(\n",
    "        title={'text': region + \" - \" + show_time + \" - Sommario (Incrementi giornalieri)\",'y':0.9,'x':0.5,'xanchor':'center','yanchor': 'top'},\n",
    "        xaxis_title=\"Data\",\n",
    "        yaxis_title=\"Persone\",\n",
    "        font=dict(\n",
    "        size=12),\n",
    "        xaxis=dict(dtick=5)\n",
    "    )\n",
    "\n",
    "    fig.show()"
   ]
  },
  {
   "cell_type": "code",
   "execution_count": null,
   "metadata": {
    "code_folding": [
     0
    ]
   },
   "outputs": [],
   "source": [
    "def situazione_attuale(region):\n",
    "    #Plots\n",
    "    fig = go.Figure()\n",
    "\n",
    "    fig.add_trace(go.Scatter(\n",
    "        x=dataframe_collection[region][\"data\"],\n",
    "        y=dataframe_collection[region][\"totale_casi\"],\n",
    "        mode='lines+markers',\n",
    "        name='Totale Positivi',\n",
    "        marker_color='red',\n",
    "        marker_size=9\n",
    "    ))\n",
    "    \n",
    "    fig.add_trace(go.Scatter(\n",
    "        x=dataframe_collection[region][\"data\"],\n",
    "        y=dataframe_collection[region][\"totale_positivi\"],\n",
    "        mode='lines+markers',\n",
    "        name='Attualmente Positivi',\n",
    "        marker_color='orange',\n",
    "        marker_size=9\n",
    "    ))\n",
    "    \n",
    "    fig.add_trace(go.Scatter(\n",
    "        x=dataframe_collection[region][\"data\"],\n",
    "        y=dataframe_collection[region][\"deceduti\"],\n",
    "        mode='lines+markers',\n",
    "        name='Deceduti',\n",
    "        marker_color='black',\n",
    "        marker_size=9\n",
    "    ))\n",
    "    \n",
    "    fig.add_trace(go.Scatter(\n",
    "        x=dataframe_collection[region][\"data\"],\n",
    "        y=dataframe_collection[region][\"dimessi_guariti\"],\n",
    "        mode='lines+markers',\n",
    "        name='Guariti',\n",
    "        marker_color='green',\n",
    "        marker_size=9\n",
    "    ))\n",
    "\n",
    "    fig.update_layout(\n",
    "        title={'text': region + \" - \" + show_time + \" - Sommario (Incrementi giornalieri)\",'y':0.9,'x':0.5,'xanchor':'center','yanchor': 'top'},\n",
    "        xaxis_title=\"Data\",\n",
    "        yaxis_title=\"Persone\",\n",
    "        font=dict(\n",
    "        size=12),\n",
    "        xaxis=dict(dtick=6),\n",
    "        yaxis=dict(hoverformat='.f')\n",
    "    )\n",
    "\n",
    "    fig.show()"
   ]
  },
  {
   "cell_type": "code",
   "execution_count": null,
   "metadata": {
    "code_folding": [
     0
    ]
   },
   "outputs": [],
   "source": [
    "def situazione_positivi(region):\n",
    "    #Plots\n",
    "    fig = go.Figure()\n",
    "    \n",
    "    \n",
    "    fig.add_trace(go.Scatter(\n",
    "        x=dataframe_collection[region][\"data\"],\n",
    "        y=dataframe_collection[region][\"totale_positivi\"],\n",
    "        mode='lines+markers',\n",
    "        name='Totale Positivi (Somma)',\n",
    "        hoverlabel = dict(namelength = -1),\n",
    "        marker_color='red',\n",
    "        marker_size=9\n",
    "    ))\n",
    "    \n",
    "    fig.add_trace(go.Scatter(\n",
    "        x=dataframe_collection[region][\"data\"],\n",
    "        y=dataframe_collection[region][\"terapia_intensiva\"],\n",
    "        mode='lines+markers',\n",
    "        name='Terapia Intensiva',\n",
    "        hoverlabel = dict(namelength = -1),\n",
    "        marker_color='purple',\n",
    "        marker_size=9\n",
    "    ))\n",
    "    \n",
    "    fig.add_trace(go.Scatter(\n",
    "        x=dataframe_collection[region][\"data\"],\n",
    "        y=dataframe_collection[region][\"ricoverati_con_sintomi\"],\n",
    "        mode='lines+markers',\n",
    "        name='Ricoverati con sintomi',\n",
    "        hoverlabel = dict(namelength = -1),\n",
    "        marker_color='orange',\n",
    "        marker_size=9\n",
    "    ))\n",
    "    \n",
    "    fig.add_trace(go.Scatter(\n",
    "        x=dataframe_collection[region][\"data\"],\n",
    "        y=dataframe_collection[region][\"isolamento_domiciliare\"],\n",
    "        mode='lines+markers',\n",
    "        name='Isolamento Domiciliare',\n",
    "        hoverlabel = dict(namelength = -1),\n",
    "        marker_color='blue',\n",
    "        marker_size=9\n",
    "    ))\n",
    "\n",
    "    fig.update_layout(\n",
    "        title={'text': region + \" - \" + show_time + \" - Situazione Positivi\",'y':0.9,'x':0.5,'xanchor':'center','yanchor': 'top'},\n",
    "        xaxis_title=\"Data\",\n",
    "        yaxis_title=\"Persone\",\n",
    "        font=dict(\n",
    "        size=12),\n",
    "        hovermode=\"closest\",\n",
    "        xaxis=dict(dtick=6),\n",
    "        yaxis=dict(hoverformat='.f')\n",
    "    )\n",
    "\n",
    "    fig.show()"
   ]
  },
  {
   "cell_type": "code",
   "execution_count": null,
   "metadata": {
    "code_folding": []
   },
   "outputs": [],
   "source": [
    "def carico_ospedaliero(region):\n",
    "    #Plots\n",
    "    fig = go.Figure()\n",
    "    \n",
    "    \n",
    "    fig.add_trace(go.Scatter(\n",
    "        x=dataframe_collection[region][\"data\"],\n",
    "        y=dataframe_collection[region][\"totale_positivi\"],\n",
    "        mode='lines+markers',\n",
    "        name='Totale Positivi (Somma)',\n",
    "        hoverlabel = dict(namelength = -1),\n",
    "        marker_color='red',\n",
    "        marker_size=9\n",
    "    ))\n",
    "    \n",
    "    fig.add_trace(go.Scatter(\n",
    "        x=dataframe_collection[region][\"data\"],\n",
    "        y=dataframe_collection[region][\"terapia_intensiva\"],\n",
    "        mode='lines+markers',\n",
    "        name='Terapia Intensiva',\n",
    "        hoverlabel = dict(namelength = -1),\n",
    "        marker_color='purple',\n",
    "        marker_size=9\n",
    "    ))\n",
    "    \n",
    "    fig.add_trace(go.Scatter(\n",
    "        x=dataframe_collection[region][\"data\"],\n",
    "        y=dataframe_collection[region][\"ricoverati_con_sintomi\"],\n",
    "        mode='lines+markers',\n",
    "        name='Ricoverati con sintomi',\n",
    "        hoverlabel = dict(namelength = -1),\n",
    "        marker_color='orange',\n",
    "        marker_size=9\n",
    "    ))\n",
    "    \n",
    "    fig.add_trace(go.Scatter(\n",
    "        x=dataframe_collection[region][\"data\"],\n",
    "        y=dataframe_collection[region][\"isolamento_domiciliare\"],\n",
    "        mode='lines+markers',\n",
    "        name='Isolamento Domiciliare',\n",
    "        hoverlabel = dict(namelength = -1),\n",
    "        marker_color='blue',\n",
    "        marker_size=9\n",
    "    ))\n",
    "\n",
    "    fig.update_layout(\n",
    "        title={'text': region + \" - \" + show_time + \" - Situazione Positivi\",'y':0.9,'x':0.5,'xanchor':'center','yanchor': 'top'},\n",
    "        xaxis_title=\"Data\",\n",
    "        yaxis_title=\"Persone\",\n",
    "        font=dict(\n",
    "        size=12),\n",
    "        hovermode=\"closest\",\n",
    "        xaxis=dict(dtick=6),\n",
    "        yaxis=dict(hoverformat='.f')\n",
    "    )\n",
    "\n",
    "    fig.show()"
   ]
  },
  {
   "cell_type": "code",
   "execution_count": null,
   "metadata": {},
   "outputs": [],
   "source": [
    "situazione_positivi(\"Italia\")"
   ]
  },
  {
   "cell_type": "code",
   "execution_count": null,
   "metadata": {},
   "outputs": [],
   "source": []
  }
 ],
 "metadata": {
  "kernelspec": {
   "display_name": "Python 3",
   "language": "python",
   "name": "python3"
  },
  "language_info": {
   "codemirror_mode": {
    "name": "ipython",
    "version": 3
   },
   "file_extension": ".py",
   "mimetype": "text/x-python",
   "name": "python",
   "nbconvert_exporter": "python",
   "pygments_lexer": "ipython3",
   "version": "3.7.7"
  }
 },
 "nbformat": 4,
 "nbformat_minor": 2
}
